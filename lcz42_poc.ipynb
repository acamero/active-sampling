{
 "cells": [
  {
   "cell_type": "markdown",
   "id": "48889e37-f17e-4a94-90ab-529633c79305",
   "metadata": {},
   "source": [
    "# Remote Sensing Advanced Methods - 2021\n",
    "\n",
    "\n",
    "## So2Sat LCZ42\n",
    "\n",
    "By 2050, Berlin summers could be as hot as in Canberra, Australia. Pankow, a district in the city’s north, has already declared a climate emergency in 2019 and is planning ahead. It is planting trees from the Mediterranean that can withstand the heat, and has calculated computer simulations for sunshine and cold air corridors for the construction of 1200 new apartments. A few changes, like swapping asphalt and concrete that store heat against greenery that soaks up water and provides shade, can make a difference on the local scale. Many of these changes on a local scale then make a difference on the bigger scale.\n",
    "\n",
    "To understand local climate in cities, scientists have developed the Local Climate Zone classification scheme, as part of the So2Sat project. The aim is to create a 4D urban map of the world.\n",
    "\n",
    "It differentiates between 17 zones based mainly on surface structures (such as building and tree density) as well as surface cover (green, pervious soils versus impervious grey surfaces). There are algorithms that calculate these maps from freely available satellite imagery, but there’s still room for improvement by adapting or developing suitable and advanced Convolutional Neural Network (CNN) architectures that generalise well.\n",
    "\n",
    "The outcome of So2Sat will be the first and unique global and consistent spatial data set on urban morphology (3D/4D) of settlements, and a multidisciplinary application derivate assessing population density. This is seen as a giant leap for urban geography research as well as for formation of opinions for stakeholders based on resilient data.\n",
    "\n",
    "```\n",
    "@article{zhu2020so2sat,\n",
    "  title={So2Sat LCZ42: a benchmark data set for the classification of global local climate zones [Software and Data Sets]},\n",
    "  author={Zhu, Xiao Xiang and Hu, Jingliang and Qiu, Chunping and Shi, Yilei and Kang, Jian and Mou, Lichao and Bagheri, Hossein and Haberle, Matthias and Hua, Yuansheng and Huang, Rong and others},\n",
    "  journal={IEEE Geoscience and Remote Sensing Magazine},\n",
    "  volume={8},\n",
    "  number={3},\n",
    "  pages={76--89},\n",
    "  year={2020},\n",
    "  publisher={IEEE}\n",
    "}\n",
    "```  "
   ]
  },
  {
   "cell_type": "markdown",
   "id": "3a118397-9181-46aa-a443-215642d639d7",
   "metadata": {},
   "source": [
    "## Table of Contents\n",
    "\n",
    "1. [Meet the Data](#1.-Meet-the-Data)\n",
    "2. [Simple Classification Baseline](#2.-Simple-Classification-Baseline)\n",
    "3. [Random Initialization](#3.-Random-Initialization)\n",
    "4. [Matrix Spaces](#4.-Matrix-Spaces)"
   ]
  },
  {
   "cell_type": "code",
   "execution_count": null,
   "id": "4558f1ff-d24e-4dba-8a0b-8cbbfd4db827",
   "metadata": {
    "tags": []
   },
   "outputs": [],
   "source": [
    "# uncomment to install the required packages\n",
    "# import sys\n",
    "# !{sys.executable} -m pip install -r requirements.txt"
   ]
  },
  {
   "cell_type": "markdown",
   "id": "04f60af4-aa5a-4380-acad-7c13f00b83fc",
   "metadata": {},
   "source": [
    "## 1. Meet the Data\n",
    "\n",
    "First, load the required packages and the date Then, let us check how the data looks like."
   ]
  },
  {
   "cell_type": "code",
   "execution_count": 1,
   "id": "dd1ea7c9-c9e8-4243-89f2-d2e6ac6db665",
   "metadata": {},
   "outputs": [
    {
     "name": "stderr",
     "output_type": "stream",
     "text": [
      "2022-02-10 14:18:39.615423: W tensorflow/stream_executor/platform/default/dso_loader.cc:64] Could not load dynamic library 'libcudart.so.11.0'; dlerror: libcudart.so.11.0: cannot open shared object file: No such file or directory\n",
      "2022-02-10 14:18:39.615442: I tensorflow/stream_executor/cuda/cudart_stub.cc:29] Ignore above cudart dlerror if you do not have a GPU set up on your machine.\n"
     ]
    }
   ],
   "source": [
    "import h5py\n",
    "import numpy as np\n",
    "import pyDOE\n",
    "\n",
    "import matplotlib.pyplot as plt\n",
    "from matplotlib.colors import Normalize\n",
    "\n",
    "from sklearn.ensemble import RandomForestClassifier\n",
    "from sklearn.metrics import confusion_matrix\n",
    "from sklearn.metrics import ConfusionMatrixDisplay\n",
    "from sklearn.metrics import accuracy_score\n",
    "from sklearn.cluster import KMeans\n",
    "\n",
    "from scipy import stats\n",
    "\n",
    "import collections\n",
    "\n",
    "import tensorflow as tf"
   ]
  },
  {
   "cell_type": "code",
   "execution_count": 2,
   "id": "e28d8693-4d5c-4b16-b67f-92929ebed9db",
   "metadata": {},
   "outputs": [
    {
     "name": "stdout",
     "output_type": "stream",
     "text": [
      "['label', 'sen1', 'sen2']\n"
     ]
    }
   ],
   "source": [
    "# this should match the name of the downloaded data set\n",
    "filename = 'data/subset_lcz42_10k.h5'\n",
    "\n",
    "dataset = h5py.File(filename, 'r')\n",
    "\n",
    "# show the content names\n",
    "print(list(dataset.keys()))"
   ]
  },
  {
   "cell_type": "code",
   "execution_count": 3,
   "id": "657c5b1b-8f81-4a41-8457-0d1605791835",
   "metadata": {},
   "outputs": [
    {
     "name": "stdout",
     "output_type": "stream",
     "text": [
      "Labels shape: (10000, 17)\n",
      "[[0. 0. 0. 0. 0. 0. 0. 0. 0. 0. 0. 0. 0. 0. 0. 0. 1.]\n",
      " [0. 0. 0. 0. 0. 0. 0. 0. 0. 0. 0. 0. 0. 0. 0. 0. 1.]\n",
      " [0. 0. 0. 0. 1. 0. 0. 0. 0. 0. 0. 0. 0. 0. 0. 0. 0.]\n",
      " [0. 0. 0. 0. 0. 0. 0. 0. 0. 0. 0. 0. 0. 0. 0. 0. 1.]\n",
      " [0. 0. 0. 0. 0. 1. 0. 0. 0. 0. 0. 0. 0. 0. 0. 0. 0.]\n",
      " [0. 0. 0. 0. 0. 0. 0. 0. 0. 0. 0. 0. 0. 1. 0. 0. 0.]\n",
      " [0. 0. 0. 0. 0. 0. 0. 0. 0. 0. 0. 0. 0. 0. 0. 0. 1.]\n",
      " [0. 0. 0. 0. 0. 0. 0. 1. 0. 0. 0. 0. 0. 0. 0. 0. 0.]\n",
      " [0. 0. 0. 0. 0. 0. 0. 1. 0. 0. 0. 0. 0. 0. 0. 0. 0.]\n",
      " [0. 0. 1. 0. 0. 0. 0. 0. 0. 0. 0. 0. 0. 0. 0. 0. 0.]]\n"
     ]
    }
   ],
   "source": [
    "# load the labels\n",
    "labels = np.array(dataset['label'])\n",
    "\n",
    "# show the shape\n",
    "print(\"Labels shape: \" + str(labels.shape))\n",
    "\n",
    "# print the labels\n",
    "print(labels[0:10,:])"
   ]
  },
  {
   "cell_type": "code",
   "execution_count": 4,
   "id": "62cda482-7875-4c02-8494-ce7fe7103227",
   "metadata": {},
   "outputs": [
    {
     "name": "stdout",
     "output_type": "stream",
     "text": [
      "Sentinel-1 shape: (10000, 32, 32, 8)\n"
     ]
    },
    {
     "data": {
      "image/png": "[encoded data removed]",
      "text/plain": [
       "<Figure size 432x288 with 2 Axes>"
      ]
     },
     "metadata": {
      "needs_background": "light"
     },
     "output_type": "display_data"
    }
   ],
   "source": [
    "# load Sentinel-1 data\n",
    "sen1 = np.array(dataset['sen1'])\n",
    "\n",
    "print(\"Sentinel-1 shape: \" + str(sen1.shape))\n",
    "\n",
    "def false_color(X):\n",
    "    \"\"\" False color visualization\n",
    "    \n",
    "    Sentinel-1 data in So2Sat LCZ42\n",
    "        1) the real part of the unfiltered VH channel\n",
    "        2) the imaginary part of the unfiltered VH channel\n",
    "        3) the real part of the unfiltered VV channel\n",
    "        4) the imaginary part of the unfiltered VV channel\n",
    "        5) the intensity of the refined LEE filtered VH channel\n",
    "        6) the intensity of the refined LEE filtered VV channel\n",
    "        7) the real part of the refined LEE filtered covariance matrix off-diagonal element\n",
    "        8) the imaginary part of the refined LEE filtered covariance matrix off-diagonal element\n",
    "    \"\"\"\n",
    "    band1 = X[:,:,0]\n",
    "    band2 = X[:,:,2]\n",
    "    band3 = X[:,:,2]\n",
    "\n",
    "    band1 = band1 / (band1.max()/255.0)\n",
    "    band2 = band2 / (band2.max()/255.0)\n",
    "    band3 = band3 / (band3.max()/255.0)\n",
    "\n",
    "    tc = np.dstack((band1, band2, band3))\n",
    "    \n",
    "    return tc.astype('uint8')\n",
    "\n",
    "# show one patch\n",
    "# plt.imshow(10 * np.log10(sen1[10,:,:,0]), cmap=plt.cm.get_cmap('gray'))\n",
    "plt.imshow(false_color(sen1[0,:,:,:]))\n",
    "plt.colorbar()\n",
    "plt.title('Sentinel-1')\n",
    "\n",
    "plt.show()"
   ]
  },
  {
   "cell_type": "code",
   "execution_count": 5,
   "id": "6489bf06-d2b7-4a62-bda7-2cae938d4bed",
   "metadata": {},
   "outputs": [
    {
     "name": "stdout",
     "output_type": "stream",
     "text": [
      "Sentinel-2 shape: (10000, 32, 32, 10)\n"
     ]
    },
    {
     "data": {
      "image/png": "[encoded data removed]",
      "text/plain": [
       "<Figure size 432x288 with 2 Axes>"
      ]
     },
     "metadata": {
      "needs_background": "light"
     },
     "output_type": "display_data"
    }
   ],
   "source": [
    "# load Sentinel-2 data\n",
    "sen2 = np.array(dataset['sen2'])\n",
    "\n",
    "print(\"Sentinel-2 shape: \" + str(sen2.shape))\n",
    "\n",
    "def true_color(X):\n",
    "    \"\"\" Define True Color Sentinel image\n",
    "    \n",
    "    The function returns the MinMax scaled RGB bands\n",
    "    \n",
    "    Sentinel-2 Bands in So2Sat LCZ 42\n",
    "        1) Band B2 (Blue), 10m GSD\n",
    "        2) Band B3 (Green), 10m GSD\n",
    "        3) Band B4 (Red), 10m GSD\n",
    "        4) Band B5, upsampled to 10m from 20m GSD\n",
    "        5) Band B6, upsampled to 10m from 20m GSD\n",
    "        6) Band B7, upsampled to 10m from 20m GSD\n",
    "        7) Band B8, 10m GSD\n",
    "        8) Band B8a, upsampled to 10m from 20m GSD\n",
    "        9) Band B11, upsampled to 10m from 20m GSD\n",
    "        10) and Band B12, upsampled to 10m from 20m GSD\n",
    "\n",
    "    Matplot convention RGB [0, 255]    \n",
    "    \"\"\"    \n",
    "    blue = X[:,:,0] / (X[:,:,0].max()/255.0)\n",
    "    green = X[:,:,1] / (X[:,:,1].max()/255.0)\n",
    "    red = X[:,:,2] / (X[:,:,2].max()/255.0)\n",
    "    \n",
    "    tc = np.dstack((red, green, blue))     \n",
    "    \n",
    "    return tc.astype('uint8')\n",
    "\n",
    "# show one patch\n",
    "plt.imshow(true_color(sen2[10,:,:,:]))\n",
    "plt.colorbar()\n",
    "plt.title('Sentinel-2')\n",
    "\n",
    "plt.show()\n"
   ]
  },
  {
   "cell_type": "markdown",
   "id": "7aa57433-3e54-47aa-b9ef-13b6012e9156",
   "metadata": {},
   "source": [
    "## 2. Simple Classification Baseline "
   ]
  },
  {
   "cell_type": "markdown",
   "id": "e89e8da2",
   "metadata": {},
   "source": [
    "Let's define a baseline using a Random Forest Classifier and Sentinel-2 images"
   ]
  },
  {
   "cell_type": "code",
   "execution_count": 42,
   "id": "28547f44",
   "metadata": {},
   "outputs": [
    {
     "name": "stdout",
     "output_type": "stream",
     "text": [
      "Post-processed Sentinel-2 data shape:  (10000, 10240)\n"
     ]
    }
   ],
   "source": [
    "# The random forest expects a vector of features. Therefore,\n",
    "# we concatenate all bands and pixels\n",
    "number_samples = sen2.shape[0]\n",
    "X = np.reshape(sen2, (number_samples, 32 * 32 * 10))\n",
    "\n",
    "print(\"Post-processed Sentinel-2 data shape: \", X.shape)\n",
    "\n",
    "# Let us split the data into train and test\n",
    "TRAIN_SPLIT = int(number_samples * .5)\n",
    "\n",
    "X_train = X[:TRAIN_SPLIT,:]\n",
    "X_test = X[TRAIN_SPLIT:,:]\n",
    "\n",
    "# The labels are one hot encoded, but the random forest requires\n",
    "# the class number\n",
    "y_train = np.argmax(labels[:TRAIN_SPLIT,:], axis=1)\n",
    "y_test = np.argmax(labels[TRAIN_SPLIT:,:], axis=1)"
   ]
  },
  {
   "cell_type": "code",
   "execution_count": 43,
   "id": "7913f7dc-aa12-4de3-b8b3-009bce13a5e1",
   "metadata": {},
   "outputs": [
    {
     "data": {
      "image/png": "[encoded data removed]",
      "text/plain": [
       "<Figure size 432x288 with 1 Axes>"
      ]
     },
     "metadata": {
      "needs_background": "light"
     },
     "output_type": "display_data"
    }
   ],
   "source": [
    "# TODO include histogram of labels\n",
    "plt.hist(y_train, bins='auto')\n",
    "plt.show()"
   ]
  },
  {
   "cell_type": "code",
   "execution_count": 44,
   "id": "ffdd2b9b-401a-44bc-93f1-3574f0fbcd3d",
   "metadata": {},
   "outputs": [
    {
     "data": {
      "image/png": "[encoded data removed]",
      "text/plain": [
       "<Figure size 432x288 with 1 Axes>"
      ]
     },
     "metadata": {
      "needs_background": "light"
     },
     "output_type": "display_data"
    }
   ],
   "source": [
    "# TODO include histogram of labels\n",
    "plt.hist(y_test, bins='auto')\n",
    "plt.show()"
   ]
  },
  {
   "cell_type": "code",
   "execution_count": 45,
   "id": "b56ff65c",
   "metadata": {},
   "outputs": [],
   "source": [
    "# train a random forest classifier\n",
    "def baseline_rf(\n",
    "        X_train,\n",
    "        y_train,\n",
    "        X_test,\n",
    "        y_test,        \n",
    "        plot=False,\n",
    "        random_state=0):\n",
    "    \"\"\" Train a random forest classifier on the train data set, and evaluate\n",
    "    its performance on the test data set.    \n",
    "    \"\"\"\n",
    "    baseline_rf_classifier = RandomForestClassifier(random_state=random_state)\n",
    "    baseline_rf_classifier.fit(X_train, y_train)\n",
    "    y_pred_baseline_rf = baseline_rf_classifier.predict(X_test)\n",
    "    acc_baseline_rf = accuracy_score(y_test, y_pred_baseline_rf)\n",
    "    \n",
    "    if plot:\n",
    "        ConfusionMatrixDisplay.from_predictions(y_test, y_pred_baseline_rf)\n",
    "        plt.show()\n",
    "    \n",
    "    return acc_baseline_rf"
   ]
  },
  {
   "cell_type": "code",
   "execution_count": 46,
   "id": "73a3e4cd-acb2-4d57-9021-50eee1062dbc",
   "metadata": {},
   "outputs": [
    {
     "data": {
      "image/png": "[encoded data removed]",
      "text/plain": [
       "<Figure size 432x288 with 2 Axes>"
      ]
     },
     "metadata": {
      "needs_background": "light"
     },
     "output_type": "display_data"
    },
    {
     "name": "stdout",
     "output_type": "stream",
     "text": [
      "Accuracy Random Forest Classifier - Baseline (all training samples): 0.65080\n"
     ]
    }
   ],
   "source": [
    "acc_rf = baseline_rf(X_train, y_train, X_test, y_test, random_state=0, plot=True)\n",
    "\n",
    "print(\"Accuracy Random Forest Classifier - Baseline (all training samples): {0:6.5f}\".format(acc_rf))"
   ]
  },
  {
   "cell_type": "code",
   "execution_count": 14,
   "id": "bfb27219",
   "metadata": {},
   "outputs": [
    {
     "name": "stdout",
     "output_type": "stream",
     "text": [
      "Random Forest Classifier - Baseline\n",
      "mean: 0.68280\n",
      "median: 0.68275\n",
      "min: 0.67200\n",
      "max: 0.69500\n",
      "sd: 0.00564\n"
     ]
    }
   ],
   "source": [
    "accs_rf_bl = list()\n",
    "for i in range(30):\n",
    "    accs_rf_bl.append(baseline_rf(X_train, y_train, X_test, y_test, random_state=i))    \n",
    "        \n",
    "rf_bl_mean = np.mean(accs_rf_bl)\n",
    "rf_bl_median = np.median(accs_rf_bl)\n",
    "rf_bl_min = np.min(accs_rf_bl)\n",
    "rf_bl_max = np.max(accs_rf_bl)\n",
    "rf_bl_sd = np.std(accs_rf_bl)\n",
    "\n",
    "print(\"Random Forest Classifier - Baseline\")\n",
    "print(\"mean: {0:6.5f}\".format(rf_bl_mean))\n",
    "print(\"median: {0:6.5f}\".format(rf_bl_median))\n",
    "print(\"min: {0:6.5f}\".format(rf_bl_min))\n",
    "print(\"max: {0:6.5f}\".format(rf_bl_max))\n",
    "print(\"sd: {0:6.5f}\".format(rf_bl_sd))"
   ]
  },
  {
   "cell_type": "code",
   "execution_count": null,
   "id": "37d19b50",
   "metadata": {},
   "outputs": [],
   "source": []
  },
  {
   "cell_type": "markdown",
   "id": "7140244c",
   "metadata": {},
   "source": [
    "## 3. Random Initialization"
   ]
  },
  {
   "cell_type": "code",
   "execution_count": 47,
   "id": "5bbcd6a9-733b-4036-a353-b4afe6d3c560",
   "metadata": {},
   "outputs": [
    {
     "name": "stdout",
     "output_type": "stream",
     "text": [
      "Initial sample size: 100\n"
     ]
    }
   ],
   "source": [
    "# TODO adjust this number\n",
    "INIT_SIZE = int(np.min([TRAIN_SPLIT * 0.1, 100]))\n",
    "\n",
    "print(\"Initial sample size:\", INIT_SIZE)"
   ]
  },
  {
   "cell_type": "code",
   "execution_count": 48,
   "id": "e2640f8a",
   "metadata": {},
   "outputs": [],
   "source": [
    "def random_init_eval(\n",
    "        X_train,\n",
    "        y_train,\n",
    "        X_test,\n",
    "        y_test,\n",
    "        init_size,\n",
    "        plot=False):\n",
    "    \"\"\" Train a random forest classifier using a sub set of the train data set\n",
    "    (of 'init_size' samples). The sub setting is done by randomly selecting \n",
    "    samples without replacement (i.e., no repeated samples). The evaluation of the\n",
    "    performance is done on the test data set.\n",
    "    \"\"\"\n",
    "    # randomly select \n",
    "    set_ix = np.random.choice(X_train.shape[0], size=INIT_SIZE, replace=False)    \n",
    "    X_train_sample = X_train[set_ix]\n",
    "    y_train_sample = y_train[set_ix]   \n",
    "    \n",
    "    acc_rf = baseline_rf(X_train_sample, y_train_sample, X_test, y_test, plot=plot)\n",
    "        \n",
    "    return acc_rf"
   ]
  },
  {
   "cell_type": "code",
   "execution_count": 49,
   "id": "98831ac3-fe65-4d91-a6a2-cea59d3bdc29",
   "metadata": {},
   "outputs": [
    {
     "data": {
      "image/png": "[encoded data removed]",
      "text/plain": [
       "<Figure size 432x288 with 2 Axes>"
      ]
     },
     "metadata": {
      "needs_background": "light"
     },
     "output_type": "display_data"
    },
    {
     "name": "stdout",
     "output_type": "stream",
     "text": [
      "Accuracy Random Forest Classifier - Random Initialization: 0.45660\n"
     ]
    }
   ],
   "source": [
    "acc_rf = random_init_eval(X_train, y_train, X_test, y_test, INIT_SIZE, plot=True)\n",
    "print(\"Accuracy Random Forest Classifier - Random Initialization: {0:6.5f}\".format(acc_rf))"
   ]
  },
  {
   "cell_type": "code",
   "execution_count": 50,
   "id": "6c0b4023",
   "metadata": {},
   "outputs": [
    {
     "name": "stdout",
     "output_type": "stream",
     "text": [
      "Random Forest Classifier - Random Initialization\n",
      "mean: 0.45273\n",
      "median: 0.45270\n",
      "min: 0.40480\n",
      "max: 0.50160\n",
      "sd: 0.02095\n"
     ]
    }
   ],
   "source": [
    "accs_rf_ri = list()\n",
    "for i in range(30):\n",
    "    accs_rf_ri.append(random_init_eval(X_train, y_train, X_test, y_test, INIT_SIZE))\n",
    "    \n",
    "rf_ri_mean = np.mean(accs_rf_ri)\n",
    "rf_ri_median = np.median(accs_rf_ri)\n",
    "rf_ri_min = np.min(accs_rf_ri)\n",
    "rf_ri_max = np.max(accs_rf_ri)\n",
    "rf_ri_sd = np.std(accs_rf_ri)\n",
    "\n",
    "print(\"Random Forest Classifier - Random Initialization\")\n",
    "print(\"mean: {0:6.5f}\".format(rf_ri_mean))\n",
    "print(\"median: {0:6.5f}\".format(rf_ri_median))\n",
    "print(\"min: {0:6.5f}\".format(rf_ri_min))\n",
    "print(\"max: {0:6.5f}\".format(rf_ri_max))\n",
    "print(\"sd: {0:6.5f}\".format(rf_ri_sd))"
   ]
  },
  {
   "cell_type": "code",
   "execution_count": 51,
   "id": "051df0a1-03d2-4999-a475-544dfe01d346",
   "metadata": {},
   "outputs": [
    {
     "name": "stdout",
     "output_type": "stream",
     "text": [
      "Mean absolute difference: 0.2300733333333333\n"
     ]
    },
    {
     "data": {
      "text/plain": [
       "MannwhitneyuResult(statistic=900.0, pvalue=3.000982378980083e-11)"
      ]
     },
     "execution_count": 51,
     "metadata": {},
     "output_type": "execute_result"
    }
   ],
   "source": [
    "# Check differences\n",
    "print(\"Mean absolute difference:\", np.abs(rf_ri_mean - rf_bl_mean))\n",
    "stats.mannwhitneyu(accs_rf_bl, accs_rf_ri)"
   ]
  },
  {
   "cell_type": "markdown",
   "id": "cb3caa5f",
   "metadata": {},
   "source": [
    "## 4. Improved Sampling\n",
    "\n",
    "Let's try to improve random sampling. We may consider several approaches, including clustering the samples, LHS, and grid search, among others. Also, the sampling may be performed on different data structures, e.g., the as-is data, gray-scaled, compressed/downsampled data, transformed, over extraced features, etc.\n",
    "\n",
    "### 4.1. Clustering"
   ]
  },
  {
   "cell_type": "code",
   "execution_count": 25,
   "id": "4c8d931a-3d9d-4593-83a6-a14b1d58b1d7",
   "metadata": {},
   "outputs": [],
   "source": [
    "def kmeans_eval(\n",
    "        X_train,\n",
    "        y_train,\n",
    "        X_test,\n",
    "        y_test,\n",
    "        init_size,\n",
    "        X_train_for_clustering,\n",
    "        number_of_clusters=10,\n",
    "        cluster_exclusion=False,\n",
    "        plot=False):\n",
    "    \"\"\" Train a random forest classifier using a sub set of the train data set\n",
    "    (of 'init_size' samples). The sub setting is done by picking samples from the \n",
    "    clusters (k-means clustering with 'number_of_cluster' equal to 'number_of_clusters').\n",
    "    Note that the clustering is performed on 'X_train_for_clustering' and not on 'X_train'. Thus,\n",
    "    it is possible to try multiple data transformations for the clustering.\n",
    "    The number of samples per cluster is proportional to the size of the cluster. \n",
    "    The evaluation of the performance is done on the test data set.\n",
    "    \"\"\"\n",
    "    # TODO: the number of cluster should be adjusted using internal/external validation metrics\n",
    "    kmeans = KMeans(n_clusters=number_of_clusters, random_state=0).fit(X_train_for_clustering)\n",
    "    # we will use the number of elements per cluster to select the initial batch\n",
    "    kmeans_counts = collections.Counter(kmeans.labels_)\n",
    "    if plot:\n",
    "        print(\"Number of elements per cluster:\", dict(kmeans_counts))\n",
    "    \n",
    "    counts = list()\n",
    "    for i in range(len(kmeans_counts)):\n",
    "        counts.append(kmeans_counts[i])\n",
    "        \n",
    "    counts = np.array(counts)\n",
    "    counts = counts / counts.min()\n",
    "    counts = counts / counts.sum()\n",
    "    counts = counts * init_size\n",
    "    counts = counts.astype(int)\n",
    "    if not cluster_exclusion:\n",
    "        counts[counts == 0] = 1\n",
    "    \n",
    "    while counts.sum() != init_size:\n",
    "        if counts.sum() > init_size:\n",
    "            counts[counts.argmax()] = counts[counts.argmax()] - 1\n",
    "        elif counts.sum() < init_size:\n",
    "            counts[counts.argmin()] = counts[counts.argmin()] + 1\n",
    "    \n",
    "    # TODO get images from clusters\n",
    "    set_ix = list()\n",
    "    for i in range(len(counts)):\n",
    "        pos = np.where(kmeans.labels_ == i)[0]\n",
    "        set_ix = set_ix + np.random.choice(pos, size=counts[i], replace=False).tolist()    \n",
    "        \n",
    "    X_train_sample = X_train[set_ix]    \n",
    "    y_train_sample = y_train[set_ix]   \n",
    "    \n",
    "    acc_rf = baseline_rf(X_train_sample, y_train_sample, X_test, y_test, plot=plot)\n",
    "        \n",
    "    return acc_rf"
   ]
  },
  {
   "cell_type": "code",
   "execution_count": 21,
   "id": "01df6c0b",
   "metadata": {
    "scrolled": true
   },
   "outputs": [
    {
     "name": "stdout",
     "output_type": "stream",
     "text": [
      "Sentinel-2 shape: (32, 32)\n"
     ]
    },
    {
     "data": {
      "image/png": "[encoded data removed]",
      "text/plain": [
       "<Figure size 432x288 with 2 Axes>"
      ]
     },
     "metadata": {
      "needs_background": "light"
     },
     "output_type": "display_data"
    }
   ],
   "source": [
    "def to_grayscale(X):\n",
    "    \"\"\" Define Grayscale Sentinel image\n",
    "       \n",
    "    Sentinel-2 Bands in So2Sat LCZ 42\n",
    "        1) Band B2 (Blue), 10m GSD\n",
    "        2) Band B3 (Green), 10m GSD\n",
    "        3) Band B4 (Red), 10m GSD\n",
    "        4) Band B5, upsampled to 10m from 20m GSD\n",
    "        5) Band B6, upsampled to 10m from 20m GSD\n",
    "        6) Band B7, upsampled to 10m from 20m GSD\n",
    "        7) Band B8, 10m GSD\n",
    "        8) Band B8a, upsampled to 10m from 20m GSD\n",
    "        9) Band B11, upsampled to 10m from 20m GSD\n",
    "        10) and Band B12, upsampled to 10m from 20m GSD\n",
    "    \"\"\"    \n",
    "    blue = X[:,:,0] # / (X[:,:,0].max()/255.0)\n",
    "    green = X[:,:,1] # / (X[:,:,1].max()/255.0)\n",
    "    red = X[:,:,2] # / (X[:,:,2].max()/255.0)\n",
    "\n",
    "    gray = 0.2989 * red + 0.5870 * green + 0.1140 * blue\n",
    "\n",
    "    return gray\n",
    "\n",
    "\n",
    "gray = to_grayscale(sen2[10,:,:,:])\n",
    "\n",
    "print(\"Sentinel-2 shape: \" + str(gray.shape))\n",
    "\n",
    "plt.imshow(gray, cmap=\"gray\")\n",
    "plt.colorbar()\n",
    "plt.title('Sentinel-2')\n",
    "plt.show()"
   ]
  },
  {
   "cell_type": "code",
   "execution_count": 52,
   "id": "9927b0c4",
   "metadata": {},
   "outputs": [
    {
     "name": "stdout",
     "output_type": "stream",
     "text": [
      "Sentinel-2 gray scale shape: (10000, 32, 32)\n",
      "Sentinel-2 gray scale flattened shape: (10000, 1024)\n"
     ]
    }
   ],
   "source": [
    "sen2_gray = None\n",
    "\n",
    "for i in range(sen2.shape[0]):\n",
    "    if sen2_gray is None:\n",
    "        sen2_gray = to_grayscale(sen2[i,:,:,:])\n",
    "    else:\n",
    "        sen2_gray = np.dstack((sen2_gray, to_grayscale(sen2[i,:,:,:])))\n",
    "\n",
    "sen2_gray = np.moveaxis(sen2_gray, -1, 0)\n",
    "    \n",
    "# we are going to min-max scale the data to [0,1]\n",
    "_min = np.min(sen2_gray)\n",
    "_max = np.max(sen2_gray)\n",
    "\n",
    "sen2_gray = (sen2_gray - _min) / (_max - _min)\n",
    "\n",
    "print(\"Sentinel-2 gray scale shape:\", sen2_gray.shape)\n",
    "\n",
    "# we need \"points\" (vectors) for the clustering\n",
    "sen2_gray_flattened = np.reshape(sen2_gray, (number_samples, 32 * 32))\n",
    "\n",
    "print(\"Sentinel-2 gray scale flattened shape:\", sen2_gray_flattened.shape)\n",
    "\n",
    "X_train_gray = sen2_gray_flattened[:TRAIN_SPLIT,:]"
   ]
  },
  {
   "cell_type": "code",
   "execution_count": 53,
   "id": "5143b85b",
   "metadata": {},
   "outputs": [
    {
     "name": "stdout",
     "output_type": "stream",
     "text": [
      "Number of elements per cluster: {2: 483, 13: 822, 7: 16, 6: 723, 0: 812, 4: 205, 11: 824, 1: 481, 5: 479, 15: 11, 9: 33, 10: 15, 8: 12, 3: 69, 14: 11, 12: 4}\n"
     ]
    },
    {
     "data": {
      "image/png": "[encoded data removed]",
      "text/plain": [
       "<Figure size 432x288 with 2 Axes>"
      ]
     },
     "metadata": {
      "needs_background": "light"
     },
     "output_type": "display_data"
    },
    {
     "name": "stdout",
     "output_type": "stream",
     "text": [
      "Accuracy Random Forest Classifier - k-Means Initialization: 0.46260\n"
     ]
    }
   ],
   "source": [
    "acc_rf = kmeans_eval(X_train, y_train, \n",
    "                     X_test, y_test, \n",
    "                     INIT_SIZE, X_train_gray,\n",
    "                     cluster_exclusion=False,\n",
    "                     number_of_clusters=16, plot=True)\n",
    "print(\"Accuracy Random Forest Classifier - k-Means Initialization: {0:6.5f}\".format(acc_rf))"
   ]
  },
  {
   "cell_type": "code",
   "execution_count": 54,
   "id": "850209dc",
   "metadata": {},
   "outputs": [
    {
     "name": "stdout",
     "output_type": "stream",
     "text": [
      "Random Forest Classifier - k-Means Initialization ( 16 clusters)\n",
      "mean: 0.45189\n",
      "median: 0.45330\n",
      "min: 0.41640\n",
      "max: 0.49340\n",
      "sd: 0.02062\n"
     ]
    }
   ],
   "source": [
    "NUMBER_OF_CLUSTERS = 16\n",
    "\n",
    "accs_rf_km_ket = list()\n",
    "for i in range(30):\n",
    "    accs_rf_km_ket.append(\n",
    "        kmeans_eval(X_train, y_train, \n",
    "                    X_test, y_test, \n",
    "                    INIT_SIZE, X_train_gray,\n",
    "                    cluster_exclusion=True,\n",
    "                    number_of_clusters=NUMBER_OF_CLUSTERS))\n",
    "    \n",
    "rf_km_ket_mean = np.mean(accs_rf_km_ket)\n",
    "rf_km_ket_median = np.median(accs_rf_km_ket)\n",
    "rf_km_ket_min = np.min(accs_rf_km_ket)\n",
    "rf_km_ket_max = np.max(accs_rf_km_ket)\n",
    "rf_km_ket_sd = np.std(accs_rf_km_ket)\n",
    "\n",
    "print(\"Random Forest Classifier - k-Means Initialization (\", NUMBER_OF_CLUSTERS, \"clusters)\")\n",
    "print(\"mean: {0:6.5f}\".format(rf_km_ket_mean))\n",
    "print(\"median: {0:6.5f}\".format(rf_km_ket_median))\n",
    "print(\"min: {0:6.5f}\".format(rf_km_ket_min))\n",
    "print(\"max: {0:6.5f}\".format(rf_km_ket_max))\n",
    "print(\"sd: {0:6.5f}\".format(rf_km_ket_sd))"
   ]
  },
  {
   "cell_type": "code",
   "execution_count": 55,
   "id": "e9c1ea5b-785e-4e60-afe7-65fb9405734b",
   "metadata": {},
   "outputs": [
    {
     "name": "stdout",
     "output_type": "stream",
     "text": [
      "Mean absolute difference (random init and k-means): 0.0008400000000000629\n"
     ]
    },
    {
     "data": {
      "text/plain": [
       "MannwhitneyuResult(statistic=426.5, pvalue=0.7338001548062383)"
      ]
     },
     "execution_count": 55,
     "metadata": {},
     "output_type": "execute_result"
    }
   ],
   "source": [
    "# Check differences\n",
    "print(\"Mean absolute difference (random init and k-means):\", np.abs(rf_ri_mean - rf_km_ket_mean))\n",
    "stats.mannwhitneyu(accs_rf_km_ket, accs_rf_ri)"
   ]
  },
  {
   "cell_type": "code",
   "execution_count": 29,
   "id": "3e594e2a-67d3-4daa-913b-23269fd3ae57",
   "metadata": {},
   "outputs": [
    {
     "name": "stdout",
     "output_type": "stream",
     "text": [
      "Random Forest Classifier - k-Means Initialization ( 16 clusters\n",
      "mean: 0.41138\n",
      "median: 0.41200\n",
      "min: 0.34050\n",
      "max: 0.46100\n",
      "sd: 0.02461\n"
     ]
    }
   ],
   "source": [
    "accs_rf_km_kef = list()\n",
    "for i in range(30):\n",
    "    accs_rf_km_kef.append(\n",
    "        kmeans_eval(X_train, y_train, \n",
    "                    X_test, y_test, \n",
    "                    INIT_SIZE, X_train_gray,\n",
    "                    cluster_exclusion=False,\n",
    "                    number_of_clusters=NUMBER_OF_CLUSTERS))\n",
    "    \n",
    "rf_km_kef_mean = np.mean(accs_rf_km_kef)\n",
    "rf_km_kef_median = np.median(accs_rf_km_kef)\n",
    "rf_km_kef_min = np.min(accs_rf_km_kef)\n",
    "rf_km_kef_max = np.max(accs_rf_km_kef)\n",
    "rf_km_kef_sd = np.std(accs_rf_km_kef)\n",
    "\n",
    "print(\"Random Forest Classifier - k-Means Initialization (\", NUMBER_OF_CLUSTERS, \"clusters)\")\n",
    "print(\"mean: {0:6.5f}\".format(rf_km_kef_mean))\n",
    "print(\"median: {0:6.5f}\".format(rf_km_kef_median))\n",
    "print(\"min: {0:6.5f}\".format(rf_km_kef_min))\n",
    "print(\"max: {0:6.5f}\".format(rf_km_kef_max))\n",
    "print(\"sd: {0:6.5f}\".format(rf_km_kef_sd))"
   ]
  },
  {
   "cell_type": "code",
   "execution_count": 32,
   "id": "99e02885",
   "metadata": {},
   "outputs": [
    {
     "name": "stdout",
     "output_type": "stream",
     "text": [
      "Mean absolute difference (random init and k-means): 0.008633333333333326\n",
      "MannwhitneyuResult(statistic=547.5, pvalue=0.15147856754479208)\n",
      "Mean absolute difference (k-means with/out cluster exc): 0.004766666666666641\n",
      "MannwhitneyuResult(statistic=417.5, pvalue=0.6361125485531234)\n"
     ]
    }
   ],
   "source": [
    "# Check differences\n",
    "print(\"Mean absolute difference (random init and k-means):\", np.abs(rf_ri_mean - rf_km_kef_mean))\n",
    "print(stats.mannwhitneyu(accs_rf_km_kef, accs_rf_ri))\n",
    "\n",
    "print(\"Mean absolute difference (k-means with/out cluster exc):\", np.abs(rf_km_kef_mean - rf_km_ket_mean))\n",
    "print(stats.mannwhitneyu(accs_rf_km_ket, accs_rf_km_kef))"
   ]
  },
  {
   "cell_type": "markdown",
   "id": "2b26d71a",
   "metadata": {},
   "source": [
    "### LHS\n",
    "\n"
   ]
  },
  {
   "cell_type": "code",
   "execution_count": null,
   "id": "889a7f17",
   "metadata": {},
   "outputs": [],
   "source": [
    "init_design"
   ]
  },
  {
   "cell_type": "code",
   "execution_count": null,
   "id": "b8d34916",
   "metadata": {
    "scrolled": true
   },
   "outputs": [],
   "source": [
    "# we store the flattened matrices\n",
    "sen2_gray_flattened = np.reshape(sen2_gray, (number_samples, 32 * 32))\n",
    "\n",
    "def lhs_init_eval(\n",
    "        X_train_set,\n",
    "        y_train_set,\n",
    "        init_size,\n",
    "        lhs_space,\n",
    "        plot=False):\n",
    "    # init design\n",
    "    init_design = pyDOE.lhs(lhs_space.shape[1], init_size)\n",
    "    # given the initial points, we need to look for the closest samples\n",
    "    # let's compute the Euclidean distances\n",
    "    distances = None\n",
    "    for i in range(init_size):\n",
    "        dist = np.linalg.norm(sen2_gray_flattened - init_design[i,:], axis=1)\n",
    "        if distances is None:\n",
    "            distances = dist\n",
    "        else:\n",
    "            distances = np.dstack((distances, dist))\n",
    "            \n",
    "    distances = np.squeeze(distances)\n",
    "    distances = np.moveaxis(distances, -1, 0)\n",
    "    \n",
    "    # let's get the closest sample\n",
    "    # TODO continue here...\n",
    "    np.min(distances, axis=1)        \n",
    "    \n",
    "    set_ix = None # TODO: populate this list\n",
    "    \n",
    "    X_train = X_train_set[set_ix]    \n",
    "    y_train = y_train_set[set_ix]   \n",
    "    \n",
    "    # train a random forest classifier\n",
    "    rf_classifier = RandomForestClassifier(random_state=0)\n",
    "    rf_classifier.fit(X_train, y_train)\n",
    "    y_pred_rf = rf_classifier.predict(X_test)\n",
    "    acc_rf = accuracy_score(y_test, y_pred_rf)\n",
    "    \n",
    "    if plot:\n",
    "        ConfusionMatrixDisplay.from_predictions(y_test, y_pred_rf)\n",
    "        plt.show()\n",
    "        \n",
    "    return acc_rf\n",
    "\n",
    "acc_rf = random_init_eval(X_train_set, y_train_set, INIT_SIZE, plot=True)\n",
    "print(\"Accuracy Random Forest Classifier: \", acc_rf)\n",
    "# pyDOE.lhs(2, samples=2)"
   ]
  }
 ],
 "metadata": {
  "kernelspec": {
   "display_name": "Python 3 (ipykernel)",
   "language": "python",
   "name": "python3"
  },
  "language_info": {
   "codemirror_mode": {
    "name": "ipython",
    "version": 3
   },
   "file_extension": ".py",
   "mimetype": "text/x-python",
   "name": "python",
   "nbconvert_exporter": "python",
   "pygments_lexer": "ipython3",
   "version": "3.8.0"
  }
 },
 "nbformat": 4,
 "nbformat_minor": 5
}
