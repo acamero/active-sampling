{
 "cells": [
  {
   "cell_type": "markdown",
   "id": "7762d8ac-a4dc-4e60-88ae-d9866141d439",
   "metadata": {},
   "source": [
    "# MNIST Active Learning POC\n",
    "\n",
    "General idea: Achieve the highest possible accuracy, with the lowest amount of train data using (supervised learning).\n",
    "\n",
    "We start from a pool of unlabeled data and a test set. Then, we itiretaively query new samples to be annotated, and re-train the model."
   ]
  },
  {
   "cell_type": "code",
   "execution_count": 141,
   "id": "ddbea19d-537b-41d5-bd32-bcc59a336edb",
   "metadata": {},
   "outputs": [],
   "source": [
    "import tensorflow as tf\n",
    "\n",
    "import numpy as np\n",
    "\n",
    "import matplotlib.pyplot as plt\n",
    "from matplotlib.colors import Normalize\n",
    "\n",
    "from sklearn.ensemble import RandomForestClassifier\n",
    "from sklearn.metrics import confusion_matrix\n",
    "from sklearn.metrics import ConfusionMatrixDisplay\n",
    "from sklearn.metrics import accuracy_score\n",
    "from sklearn.cluster import KMeans\n",
    "\n",
    "from scipy import stats\n",
    "\n",
    "import collections\n",
    "\n",
    "import forestci as fci\n",
    "\n",
    "import warnings\n",
    "warnings.filterwarnings('ignore')"
   ]
  },
  {
   "cell_type": "markdown",
   "id": "bc7c78bd-bbc4-486a-a7f9-b7da5ed04cb8",
   "metadata": {},
   "source": [
    "## MNIST"
   ]
  },
  {
   "cell_type": "code",
   "execution_count": 2,
   "id": "2162f159-958b-4d27-a258-d49a1365283d",
   "metadata": {},
   "outputs": [
    {
     "name": "stdout",
     "output_type": "stream",
     "text": [
      "Number of original training examples: 60000\n",
      "Number of original test examples: 10000\n"
     ]
    }
   ],
   "source": [
    "(x_train, y_train), (x_test, y_test) = tf.keras.datasets.mnist.load_data()\n",
    "\n",
    "x_train, x_test = x_train[..., np.newaxis]/255.0, x_test[..., np.newaxis]/255.0\n",
    "\n",
    "print(\"Number of original training examples:\", len(x_train))\n",
    "print(\"Number of original test examples:\", len(x_test))"
   ]
  },
  {
   "cell_type": "markdown",
   "id": "285f2f57-aff3-4e92-a7bf-905db352a431",
   "metadata": {},
   "source": [
    "## Baseline model"
   ]
  },
  {
   "cell_type": "code",
   "execution_count": 3,
   "id": "3630cd2f-c691-4566-a399-e4e4693177d4",
   "metadata": {},
   "outputs": [
    {
     "name": "stderr",
     "output_type": "stream",
     "text": [
      "2022-04-27 11:31:24.587793: W tensorflow/stream_executor/platform/default/dso_loader.cc:64] Could not load dynamic library 'libcuda.so.1'; dlerror: libcuda.so.1: cannot open shared object file: No such file or directory\n",
      "2022-04-27 11:31:24.587813: W tensorflow/stream_executor/cuda/cuda_driver.cc:269] failed call to cuInit: UNKNOWN ERROR (303)\n",
      "2022-04-27 11:31:24.587824: I tensorflow/stream_executor/cuda/cuda_diagnostics.cc:156] kernel driver does not appear to be running on this host (eoc-001261l): /proc/driver/nvidia/version does not exist\n",
      "2022-04-27 11:31:24.588028: I tensorflow/core/platform/cpu_feature_guard.cc:142] This TensorFlow binary is optimized with oneAPI Deep Neural Network Library (oneDNN) to use the following CPU instructions in performance-critical operations:  AVX2 FMA\n",
      "To enable them in other operations, rebuild TensorFlow with the appropriate compiler flags.\n",
      "2022-04-27 11:31:24.760496: I tensorflow/compiler/mlir/mlir_graph_optimization_pass.cc:185] None of the MLIR Optimization Passes are enabled (registered 2)\n"
     ]
    },
    {
     "data": {
      "text/plain": [
       "<keras.callbacks.History at 0x7f33b0274be0>"
      ]
     },
     "execution_count": 3,
     "metadata": {},
     "output_type": "execute_result"
    }
   ],
   "source": [
    "# the batch size will be used as the number of new images to annotate\n",
    "BATCH_SIZE = 128\n",
    "BASELINE_EPOCHS = 6\n",
    "VALIDATION_SPLIT = 0.2\n",
    "\n",
    "baseline_model = tf.keras.models.Sequential([\n",
    "  tf.keras.layers.Flatten(input_shape=(28, 28)),\n",
    "  tf.keras.layers.Dense(128, activation='relu'),\n",
    "  tf.keras.layers.Dense(10)\n",
    "])\n",
    "\n",
    "baseline_model.compile(\n",
    "    optimizer=tf.keras.optimizers.Adam(0.001),\n",
    "    loss=tf.keras.losses.SparseCategoricalCrossentropy(from_logits=True),\n",
    "    metrics=[tf.keras.metrics.SparseCategoricalAccuracy()],\n",
    ")\n",
    "\n",
    "baseline_model.fit(\n",
    "    x=x_train,\n",
    "    y=y_train,\n",
    "    batch_size=BATCH_SIZE,\n",
    "    epochs=BASELINE_EPOCHS,\n",
    "    validation_split=VALIDATION_SPLIT,\n",
    "    verbose=0,\n",
    ")"
   ]
  },
  {
   "cell_type": "code",
   "execution_count": 4,
   "id": "3d1817bd-d8d3-4ea8-9c9a-f507d9fedf03",
   "metadata": {},
   "outputs": [
    {
     "name": "stdout",
     "output_type": "stream",
     "text": [
      "SparseCategoricalAccuracy 0.9725000262260437\n"
     ]
    }
   ],
   "source": [
    "_, baseline_metrics = baseline_model.evaluate(\n",
    "    x=x_test,\n",
    "    y=y_test,\n",
    "    verbose=0,\n",
    ")\n",
    "\n",
    "print(\"SparseCategoricalAccuracy\", baseline_metrics)"
   ]
  },
  {
   "cell_type": "markdown",
   "id": "09ec713d-1264-4e16-88b9-73eb02f1e145",
   "metadata": {},
   "source": [
    "## Randomly Added Images"
   ]
  },
  {
   "cell_type": "code",
   "execution_count": 5,
   "id": "8edbe0e5-e28d-4e2e-853f-132f445591e6",
   "metadata": {},
   "outputs": [
    {
     "name": "stdout",
     "output_type": "stream",
     "text": [
      "Initial number of annotated images 600 out of 60000\n",
      "The budget consists of 360000 forward passes\n",
      "Every round, the network is trained for 1 epoch(s)\n"
     ]
    }
   ],
   "source": [
    "INIT_SIZE = int(len(x_train) * 0.01)\n",
    "print(\"Initial number of annotated images\", INIT_SIZE, \"out of\", len(x_train))\n",
    "\n",
    "BUDGET = BASELINE_EPOCHS * len(x_train)\n",
    "print(\"The budget consists of\", BUDGET, \"forward passes\")\n",
    "\n",
    "ACTIVE_EPOCHS = 1\n",
    "print(\"Every round, the network is trained for\", ACTIVE_EPOCHS, \"epoch(s)\")"
   ]
  },
  {
   "cell_type": "code",
   "execution_count": 6,
   "id": "38d1d4ea-6230-439a-9e1d-dd4fbd561b46",
   "metadata": {},
   "outputs": [
    {
     "name": "stdout",
     "output_type": "stream",
     "text": [
      "Size of initial set of annotated images 600\n",
      "480.0 out of 360000 forward passes done\n"
     ]
    }
   ],
   "source": [
    "annotated_ix = list()\n",
    "\n",
    "annotated_ix = annotated_ix + np.random.choice(range(len(x_train)), \n",
    "                                               size=INIT_SIZE, replace=False).tolist()\n",
    "\n",
    "x_train_annotated = x_train[annotated_ix]    \n",
    "y_train_annotated = y_train[annotated_ix]\n",
    "\n",
    "print(\"Size of initial set of annotated images\", len(x_train_annotated))\n",
    "\n",
    "random_model = tf.keras.models.Sequential([\n",
    "  tf.keras.layers.Flatten(input_shape=(28, 28)),\n",
    "  tf.keras.layers.Dense(128, activation='relu'),\n",
    "  tf.keras.layers.Dense(10)\n",
    "])\n",
    "\n",
    "random_model.compile(\n",
    "    optimizer=tf.keras.optimizers.Adam(0.001),\n",
    "    loss=tf.keras.losses.SparseCategoricalCrossentropy(from_logits=True),\n",
    "    metrics=[tf.keras.metrics.SparseCategoricalAccuracy()],\n",
    ")\n",
    "\n",
    "random_model.fit(\n",
    "    x=x_train_annotated,\n",
    "    y=y_train_annotated,\n",
    "    batch_size=BATCH_SIZE,\n",
    "    epochs=ACTIVE_EPOCHS,\n",
    "    validation_split=VALIDATION_SPLIT,\n",
    "    verbose=0,\n",
    ")\n",
    "\n",
    "random_spent = ACTIVE_EPOCHS * (1 - VALIDATION_SPLIT) * len(x_train_annotated)\n",
    "print(random_spent, \"out of\", BUDGET, \"forward passes done\")"
   ]
  },
  {
   "cell_type": "code",
   "execution_count": 7,
   "id": "ee275cfe-4d3f-44d5-a42a-74566cdf682a",
   "metadata": {},
   "outputs": [
    {
     "name": "stdout",
     "output_type": "stream",
     "text": [
      "SparseCategoricalAccuracy 0.41179999709129333\n"
     ]
    }
   ],
   "source": [
    "_, metrics = random_model.evaluate(\n",
    "    x=x_test,\n",
    "    y=y_test,\n",
    "    verbose=0,\n",
    ")\n",
    "\n",
    "print(\"SparseCategoricalAccuracy\", metrics)\n",
    "\n",
    "random_metrics = [metrics]\n",
    "random_budget = [random_spent]\n",
    "random_annotated = [len(x_train_annotated)]"
   ]
  },
  {
   "cell_type": "code",
   "execution_count": 8,
   "id": "6df2f027-46d9-4702-aa58-2ac9e11aa850",
   "metadata": {},
   "outputs": [],
   "source": [
    "while random_spent < BUDGET:\n",
    "    ix_pool = np.delete(range(len(x_train)), annotated_ix)\n",
    "\n",
    "    annotated_ix = annotated_ix + np.random.choice(ix_pool, \n",
    "                                                   size=BATCH_SIZE, replace=False).tolist()\n",
    "\n",
    "    x_train_annotated = x_train[annotated_ix]    \n",
    "    y_train_annotated = y_train[annotated_ix]\n",
    "\n",
    "    random_model = tf.keras.models.Sequential([\n",
    "      tf.keras.layers.Flatten(input_shape=(28, 28)),\n",
    "      tf.keras.layers.Dense(128, activation='relu'),\n",
    "      tf.keras.layers.Dense(10)\n",
    "    ])\n",
    "    random_model.compile(\n",
    "        optimizer=tf.keras.optimizers.Adam(0.001),\n",
    "        loss=tf.keras.losses.SparseCategoricalCrossentropy(from_logits=True),\n",
    "        metrics=[tf.keras.metrics.SparseCategoricalAccuracy()],\n",
    "    )\n",
    "\n",
    "    random_model.fit(\n",
    "        x=x_train_annotated,\n",
    "        y=y_train_annotated,\n",
    "        batch_size=BATCH_SIZE,\n",
    "        epochs=ACTIVE_EPOCHS,\n",
    "        validation_split=VALIDATION_SPLIT,\n",
    "        verbose=0,\n",
    "    )\n",
    "\n",
    "    _, metrics = random_model.evaluate(\n",
    "        x=x_test,\n",
    "        y=y_test,\n",
    "        verbose=0,\n",
    "    )\n",
    "\n",
    "    # print(\"SparseCategoricalAccuracy\", metrics, \"on\", len(x_train_annotated), \"annotated images\")\n",
    "\n",
    "    random_metrics.append(metrics)\n",
    "    \n",
    "    random_spent = random_spent + ACTIVE_EPOCHS * (1 - VALIDATION_SPLIT) * len(x_train_annotated)\n",
    "    # print(random_spent, \"out of\", BUDGET, \"forward passes done\")\n",
    "    random_budget.append(random_spent)\n",
    "    random_annotated.append(len(x_train_annotated))"
   ]
  },
  {
   "cell_type": "markdown",
   "id": "ff23052f-d8f1-479d-a785-6d4b498eabe5",
   "metadata": {},
   "source": [
    "The following plot shows the accuracy on test achieved by the model after *n* forward passess (training). The solid red line shows the accuracy achieved by the model using 100% of the trianing data after trianing for an equivalent time (i.e. the same number of forward passess)."
   ]
  },
  {
   "cell_type": "code",
   "execution_count": 9,
   "id": "9a04ac1b-e4eb-4c2d-b5e5-171e75c88e59",
   "metadata": {},
   "outputs": [
    {
     "data": {
      "text/plain": [
       "<matplotlib.lines.Line2D at 0x7f3374351d60>"
      ]
     },
     "execution_count": 9,
     "metadata": {},
     "output_type": "execute_result"
    },
    {
     "data": {
      "image/png": "[encoded data removed]",
      "text/plain": [
       "<Figure size 432x288 with 1 Axes>"
      ]
     },
     "metadata": {
      "needs_background": "light"
     },
     "output_type": "display_data"
    }
   ],
   "source": [
    "plt.plot(random_budget, random_metrics)\n",
    "plt.axhline(baseline_metrics, color='r')"
   ]
  },
  {
   "cell_type": "markdown",
   "id": "e07dd229-0b4f-4d8b-b289-1e5aeef13792",
   "metadata": {},
   "source": [
    "The following plot shows the accuracy on test achieved by the model usign *x*% of annotated training data (incrementally). The solid red line shows the accuracy achieved by the model using 100% of the trianing data after trianing for an equivalent time (i.e. the same number of forward passess)."
   ]
  },
  {
   "cell_type": "code",
   "execution_count": 10,
   "id": "3e40a8a8-e995-4eb7-852e-c65952681f42",
   "metadata": {},
   "outputs": [
    {
     "data": {
      "text/plain": [
       "<matplotlib.lines.Line2D at 0x7f33742ccb50>"
      ]
     },
     "execution_count": 10,
     "metadata": {},
     "output_type": "execute_result"
    },
    {
     "data": {
      "image/png": "[encoded data removed]",
      "text/plain": [
       "<Figure size 432x288 with 1 Axes>"
      ]
     },
     "metadata": {
      "needs_background": "light"
     },
     "output_type": "display_data"
    }
   ],
   "source": [
    "random_annotated_perc = np.array(random_annotated) / len(x_train)\n",
    "plt.plot(random_annotated_perc, random_metrics)\n",
    "plt.axhline(baseline_metrics, color='r')"
   ]
  },
  {
   "cell_type": "markdown",
   "id": "92503ddb-8e78-47e5-b3da-295969b92163",
   "metadata": {},
   "source": [
    "## Clustering"
   ]
  },
  {
   "cell_type": "code",
   "execution_count": 11,
   "id": "6238aea2-f451-42d4-a0a2-f9a1f69ad4a6",
   "metadata": {},
   "outputs": [],
   "source": [
    "x_train_flat = np.reshape(\n",
    "    x_train, \n",
    "    (len(x_train), x_train.shape[1] * x_train.shape[2] * x_train.shape[3])\n",
    ")\n",
    "\n",
    "# TODO: the number of cluster should be adjusted using internal/external validation metrics\n",
    "N_CLUSTERS = 10\n",
    "kmeans = KMeans(n_clusters=N_CLUSTERS, random_state=0).fit(x_train_flat)\n"
   ]
  },
  {
   "cell_type": "code",
   "execution_count": 36,
   "id": "0803015f-f947-4cfc-93ea-99e61f4b5a43",
   "metadata": {},
   "outputs": [],
   "source": [
    "def norm_ratios(\n",
    "    labels,\n",
    "    sum_up_to,\n",
    "    classes,\n",
    "    inclusion=True):\n",
    "    \"\"\" Given an array of classes (labels), returns an array of\n",
    "    elements per class (ratio) that sum up to a given number.\n",
    "    In other words, the sum of all returned elements is equal to\n",
    "    'sum_up_to'.\n",
    "    \"\"\"\n",
    "    labels_counts = collections.Counter(labels)    \n",
    "\n",
    "    # select a repersentative initial set of images to be annotated\n",
    "    counts = list()\n",
    "    for i in classes:\n",
    "        counts.append(labels_counts[i])\n",
    "\n",
    "    counts = np.array(counts)\n",
    "    _min = counts.min() if counts.min() > 0 else 1\n",
    "    _sum = counts.sum() if counts.sum() > 0 else 1\n",
    "    \n",
    "    counts = counts / _min\n",
    "    counts = counts / _sum\n",
    "    counts = counts * sum_up_to\n",
    "    counts = counts.astype(int)\n",
    "\n",
    "    if inclusion:\n",
    "        # to avoid smalls clusters to be left out, we add at least one element per cluster\n",
    "        counts[counts == 0] = 1\n",
    "\n",
    "    while counts.sum() != sum_up_to:\n",
    "        if counts.sum() > sum_up_to:\n",
    "            counts[counts.argmax()] = counts[counts.argmax()] - 1\n",
    "        elif counts.sum() < sum_up_to:\n",
    "            counts[counts.argmin()] = counts[counts.argmin()] + 1\n",
    "            \n",
    "    return counts"
   ]
  },
  {
   "cell_type": "code",
   "execution_count": 13,
   "id": "5787f012-6d4e-4d6d-be5c-1ec7e8303c9e",
   "metadata": {},
   "outputs": [
    {
     "name": "stdout",
     "output_type": "stream",
     "text": [
      "Images by class adjusted to sum up to the initial amount of annotated data [55 89 34 74 59 65 88 46 33 57]\n",
      "Size of initial set of annotated images 600\n"
     ]
    }
   ],
   "source": [
    "# we will use the number of elements per cluster to select the initial batch\n",
    "counts = norm_ratios(kmeans.labels_, INIT_SIZE, range(N_CLUSTERS))\n",
    "print(\"Images by class adjusted to sum up to the initial amount of annotated data\",\n",
    "      counts)\n",
    "\n",
    "set_ix = list()\n",
    "for i in range(len(counts)):\n",
    "    pos = np.where(kmeans.labels_ == i)[0]    \n",
    "    if len(pos) >= counts[i]:\n",
    "        set_ix = set_ix + np.random.choice(pos, size=counts[i], replace=False).tolist()\n",
    "    elif len(pos) > 0:\n",
    "        set_ix = set_ix + pos\n",
    "    \n",
    "annotated_ix = set_ix.copy()\n",
    "\n",
    "x_train_annotated = x_train[annotated_ix]    \n",
    "y_train_annotated = y_train[annotated_ix]\n",
    "\n",
    "print(\"Size of initial set of annotated images\", len(x_train_annotated))"
   ]
  },
  {
   "cell_type": "code",
   "execution_count": 14,
   "id": "aefa84cb-53d3-4473-b7e9-58c8641cb5a4",
   "metadata": {},
   "outputs": [
    {
     "name": "stdout",
     "output_type": "stream",
     "text": [
      "480.0 out of 360000 forward passes done\n"
     ]
    }
   ],
   "source": [
    "active_model = tf.keras.models.Sequential([\n",
    "  tf.keras.layers.Flatten(input_shape=(28, 28)),\n",
    "  tf.keras.layers.Dense(128, activation='relu'),\n",
    "  tf.keras.layers.Dense(10)\n",
    "])\n",
    "\n",
    "active_model.compile(\n",
    "    optimizer=tf.keras.optimizers.Adam(0.001),\n",
    "    loss=tf.keras.losses.SparseCategoricalCrossentropy(from_logits=True),\n",
    "    metrics=[tf.keras.metrics.SparseCategoricalAccuracy()],\n",
    ")\n",
    "\n",
    "active_model.fit(\n",
    "    x=x_train_annotated,\n",
    "    y=y_train_annotated,\n",
    "    batch_size=BATCH_SIZE,\n",
    "    epochs=ACTIVE_EPOCHS,\n",
    "    validation_split=VALIDATION_SPLIT,\n",
    "    verbose=0,\n",
    ")\n",
    "\n",
    "active_spent = ACTIVE_EPOCHS * (1 - VALIDATION_SPLIT) * len(x_train_annotated)\n",
    "print(active_spent, \"out of\", BUDGET, \"forward passes done\")"
   ]
  },
  {
   "cell_type": "code",
   "execution_count": 15,
   "id": "9d022236-cbb4-47ed-bab0-402474dfca93",
   "metadata": {},
   "outputs": [
    {
     "name": "stdout",
     "output_type": "stream",
     "text": [
      "SparseCategoricalAccuracy 0.3741999864578247\n"
     ]
    }
   ],
   "source": [
    "_, metrics = active_model.evaluate(\n",
    "    x=x_test,\n",
    "    y=y_test,\n",
    "    verbose=0,\n",
    ")\n",
    "\n",
    "print(\"SparseCategoricalAccuracy\", metrics)\n",
    "\n",
    "active_metrics = [metrics]\n",
    "active_budget = [active_spent]\n",
    "active_annotated = [len(x_train_annotated)]"
   ]
  },
  {
   "cell_type": "markdown",
   "id": "f2ba113f-d880-4cd7-9392-5c811ea70ea9",
   "metadata": {},
   "source": [
    "**NOTE:** Should we use the test data to check instead?"
   ]
  },
  {
   "cell_type": "code",
   "execution_count": 16,
   "id": "fee5514c-6326-4c22-82e3-ffa52c4d00a5",
   "metadata": {},
   "outputs": [],
   "source": [
    "while active_spent < BUDGET:\n",
    "    preds = active_model.predict(x_train_annotated)\n",
    "    preds_class = np.argmax(preds, axis=1)\n",
    "    misclassified_relative = np.where((preds_class - y_train_annotated)!=0)\n",
    "    misclassified_pos = np.take(annotated_ix, misclassified_relative)\n",
    "    misclassified_cluster_no = np.take(kmeans.labels_, misclassified_pos)\n",
    "\n",
    "    # compute ratio of misclassified classes\n",
    "    counts_active = norm_ratios(misclassified_cluster_no.ravel(), BATCH_SIZE, range(N_CLUSTERS))\n",
    "    # print(\"Misclasification by class adjusted to sum up to a batch\", counts_active)\n",
    "\n",
    "    # select new images to annotate with the given ratios\n",
    "    ix_pool = np.delete(range(len(x_train)), annotated_ix)\n",
    "    weak_labels_ix_pool = np.delete(kmeans.labels_, annotated_ix)\n",
    "\n",
    "    set_ix = list()\n",
    "    for i in range(len(counts_active)):\n",
    "        pos = np.where(weak_labels_ix_pool == i)[0]                    \n",
    "        if len(pos) >= counts_active[i]:\n",
    "            set_ix = set_ix + np.random.choice(\n",
    "                ix_pool[pos], \n",
    "                size=counts_active[i], \n",
    "                replace=False).tolist()\n",
    "        elif len(pos) > 0:\n",
    "            set_ix = set_ix + ix_pool[pos]        \n",
    "\n",
    "    # print(\"Adding\", len(set_ix), \"annotated images\")\n",
    "\n",
    "    annotated_ix = annotated_ix + set_ix\n",
    "\n",
    "    x_train_annotated = x_train[annotated_ix]    \n",
    "    y_train_annotated = y_train[annotated_ix]\n",
    "\n",
    "    # print(\"Current size of set of annotated images\", len(x_train_annotated))\n",
    "    \n",
    "    active_model.fit(\n",
    "        x=x_train_annotated,\n",
    "        y=y_train_annotated,\n",
    "        batch_size=BATCH_SIZE,\n",
    "        epochs=ACTIVE_EPOCHS,\n",
    "        validation_split=VALIDATION_SPLIT,\n",
    "        verbose=0,\n",
    "    )\n",
    "\n",
    "    _, metrics = active_model.evaluate(\n",
    "        x=x_test,\n",
    "        y=y_test,\n",
    "        verbose=0,\n",
    "    )\n",
    "\n",
    "    # print(\"SparseCategoricalAccuracy\", metrics)\n",
    "\n",
    "    active_metrics.append(metrics)\n",
    "    active_spent = active_spent + ACTIVE_EPOCHS * (1 - VALIDATION_SPLIT) * len(x_train_annotated)\n",
    "    # print(random_spent, \"out of\", BUDGET, \"forward passes done\")\n",
    "    active_budget.append(active_spent)\n",
    "    active_annotated.append(len(x_train_annotated))"
   ]
  },
  {
   "cell_type": "markdown",
   "id": "837c260b-9cdd-4742-b8c3-eca19b788ed7",
   "metadata": {},
   "source": [
    "## Results Compared\n",
    "\n",
    "First, as a sanity check, we train from *scratch* the same model using the annotated data."
   ]
  },
  {
   "cell_type": "code",
   "execution_count": 17,
   "id": "39ed047f-8b30-46cc-a05f-4622d4a6068d",
   "metadata": {},
   "outputs": [
    {
     "name": "stdout",
     "output_type": "stream",
     "text": [
      "SparseCategoricalAccuracy 0.9538999795913696\n"
     ]
    }
   ],
   "source": [
    "cmp_epochs = int(BUDGET / len(x_train_annotated))\n",
    "\n",
    "cmp_model = tf.keras.models.Sequential([\n",
    "  tf.keras.layers.Flatten(input_shape=(28, 28)),\n",
    "  tf.keras.layers.Dense(128, activation='relu'),\n",
    "  tf.keras.layers.Dense(10)\n",
    "])\n",
    "\n",
    "cmp_model.compile(\n",
    "    optimizer=tf.keras.optimizers.Adam(0.001),\n",
    "    loss=tf.keras.losses.SparseCategoricalCrossentropy(from_logits=True),\n",
    "    metrics=[tf.keras.metrics.SparseCategoricalAccuracy()],\n",
    ")\n",
    "\n",
    "cmp_model.fit(\n",
    "    x=x_train_annotated,\n",
    "    y=y_train_annotated,\n",
    "    batch_size=BATCH_SIZE,\n",
    "    epochs=cmp_epochs,\n",
    "    validation_split=VALIDATION_SPLIT,\n",
    "    verbose=0,\n",
    ")\n",
    "\n",
    "_, cmp_metrics = cmp_model.evaluate(\n",
    "    x=x_test,\n",
    "    y=y_test,\n",
    "    verbose=0,\n",
    ")\n",
    "\n",
    "print(\"SparseCategoricalAccuracy\", cmp_metrics)"
   ]
  },
  {
   "cell_type": "code",
   "execution_count": 18,
   "id": "ced8f1c9-82a7-4919-9455-b1cc40dbb221",
   "metadata": {},
   "outputs": [
    {
     "name": "stdout",
     "output_type": "stream",
     "text": [
      "Baseline (100% data) 0.9725000262260437\n",
      "Baseline ( 17 % data) 0.9538999795913696\n",
      "Random ( 17 % data) 0.8910999894142151\n",
      "Active ( 17 % data) 0.9483000040054321\n"
     ]
    }
   ],
   "source": [
    "annotated_perc = len(x_train_annotated) / len(x_train)\n",
    "annotated_perc = int(annotated_perc * 100)\n",
    "\n",
    "print('Baseline (100% data)', baseline_metrics)\n",
    "print('Baseline (', annotated_perc, '% data)', cmp_metrics)\n",
    "print('Random (', annotated_perc, '% data)',random_metrics[-1])\n",
    "print('Active (', annotated_perc, '% data)',active_metrics[-1])"
   ]
  },
  {
   "cell_type": "markdown",
   "id": "b31b640c-a942-4a34-87e5-970aae5ad7e8",
   "metadata": {},
   "source": [
    "The following plot shows the accuracy on test achieved by the model after *n* forward passess (training) using the active selection approach (*green*), and the random approach (*blue*). The solid red line shows the accuracy achieved by the model using 100% of the trianing data and the *annotated* data (*yellow*) after trianing for an equivalent time (i.e. the same number of forward passess) from scratch."
   ]
  },
  {
   "cell_type": "code",
   "execution_count": 19,
   "id": "08138552-4ac2-49c9-8d93-02afe3e8de83",
   "metadata": {},
   "outputs": [
    {
     "data": {
      "text/plain": [
       "<matplotlib.lines.Line2D at 0x7f336779dd00>"
      ]
     },
     "execution_count": 19,
     "metadata": {},
     "output_type": "execute_result"
    },
    {
     "data": {
      "image/png": "[encoded data removed]",
      "text/plain": [
       "<Figure size 432x288 with 1 Axes>"
      ]
     },
     "metadata": {
      "needs_background": "light"
     },
     "output_type": "display_data"
    }
   ],
   "source": [
    "if np.sum(np.array(random_budget) - np.array(active_budget)) != 0:\n",
    "    print(\"Error: The random and active budgets do not match\")\n",
    "\n",
    "if np.sum(np.array(random_annotated) - np.array(active_annotated)) != 0:\n",
    "    print(\"Error: The random and active annotated counts do not match\")\n",
    "\n",
    "plt.plot(random_budget, random_metrics, color='b')\n",
    "plt.plot(random_budget, active_metrics, color='g')\n",
    "plt.axhline(baseline_metrics, color='r')\n",
    "plt.axhline(cmp_metrics, color='y')"
   ]
  },
  {
   "cell_type": "markdown",
   "id": "89725f33-b1f8-42b0-89b2-92eb7746521d",
   "metadata": {},
   "source": [
    "The following plot shows the accuracy on test achieved by the model usign *x*% of annotated training data with the active selection approach (*green*) and random (*blue*). The solid red line shows the accuracy achieved by the model using 100% of the trianing data and the *annotated* data (*yellow*) after trianing for an equivalent time (i.e. the same number of forward passess) from scratch."
   ]
  },
  {
   "cell_type": "code",
   "execution_count": 23,
   "id": "1aee3ff3-ba51-4f9f-90ba-c7317fee8641",
   "metadata": {},
   "outputs": [
    {
     "data": {
      "text/plain": [
       "<matplotlib.lines.Line2D at 0x7f33940d1a90>"
      ]
     },
     "execution_count": 23,
     "metadata": {},
     "output_type": "execute_result"
    },
    {
     "data": {
      "image/png": "[encoded data removed]",
      "text/plain": [
       "<Figure size 432x288 with 1 Axes>"
      ]
     },
     "metadata": {
      "needs_background": "light"
     },
     "output_type": "display_data"
    }
   ],
   "source": [
    "plt.plot(random_annotated_perc, random_metrics, color='b')\n",
    "plt.plot(random_annotated_perc, active_metrics, color='g')\n",
    "plt.axhline(baseline_metrics, color='r')\n",
    "plt.axhline(cmp_metrics, color='y')\n",
    "plt.axhline(baseline_metrics*0.9, color='r', linestyle='dashed')"
   ]
  },
  {
   "cell_type": "code",
   "execution_count": 31,
   "id": "a6081a1f-3895-4bfa-80c8-eff80ea863c6",
   "metadata": {},
   "outputs": [
    {
     "data": {
      "text/plain": [
       "1624"
      ]
     },
     "execution_count": 31,
     "metadata": {},
     "output_type": "execute_result"
    }
   ],
   "source": [
    "p90 = np.min(np.where(np.array(active_metrics) > baseline_metrics*0.9))\n",
    "active_annotated[p90]"
   ]
  },
  {
   "cell_type": "markdown",
   "id": "e52ff348-975f-468d-ab50-23e35fcd7354",
   "metadata": {},
   "source": [
    "# Achieve P% Accuracy"
   ]
  },
  {
   "cell_type": "code",
   "execution_count": 32,
   "id": "1a8852fc-b0f9-4159-935d-25398502ccd6",
   "metadata": {},
   "outputs": [
    {
     "name": "stdout",
     "output_type": "stream",
     "text": [
      "Target accuracy 0.8752500236034394 ( 0.9 %)\n"
     ]
    }
   ],
   "source": [
    "P = 0.9\n",
    "target_accuracy = baseline_metrics * P\n",
    "print('Target accuracy', target_accuracy, '(', P, '%)')"
   ]
  },
  {
   "cell_type": "code",
   "execution_count": 33,
   "id": "e6b59fc6-b5a6-4224-8868-d052f2e668a4",
   "metadata": {},
   "outputs": [],
   "source": [
    "def auto_cluster_size(\n",
    "    x_train_flat,\n",
    "    max_n_clusters):\n",
    "    \"\"\" Set automatically the optimal number of clusters\n",
    "    \"\"\"\n",
    "    print(\"Warning: The automatic setting of the number of clusters is not yet implemented\")\n",
    "    return 10"
   ]
  },
  {
   "cell_type": "code",
   "execution_count": 139,
   "id": "ad9d298e-7c3f-4c78-955a-4390f4e4f0dd",
   "metadata": {},
   "outputs": [],
   "source": [
    "def samp_var_acquisition_fn(\n",
    "    x_train_annotated,\n",
    "    y_train_annotated,\n",
    "    x_test_not_annotated,\n",
    "    sample_size):\n",
    "    \"\"\"\n",
    "    \"\"\"\n",
    "    if sample_size <= 0:\n",
    "        return np.array([])\n",
    "    \n",
    "    if len(x_train_annotated) == 0:\n",
    "        return np.random.choice(\n",
    "            range(len(x_test_not_annotated)), \n",
    "            size=sample_size, \n",
    "            replace=False)\n",
    "    \n",
    "    rf = RandomForestClassifier(random_state=0)\n",
    "    rf.fit(x_train_annotated, y_train_annotated)\n",
    "    # y_pred = rf.predict(x_test_not_annotated)\n",
    "    unbiased_samp_var = fci.random_forest_error(rf, x_train_annotated, x_test_not_annotated)    \n",
    "    #ix_samples = np.argpartition(unbiased_samp_var, \n",
    "    #                             (len(unbiased_samp_var) - sample_size))[-sample_size:]\n",
    "    ix_samples = np.argpartition(unbiased_samp_var, sample_size)[:sample_size]\n",
    "    \n",
    "    return ix_samples"
   ]
  },
  {
   "cell_type": "code",
   "execution_count": 130,
   "id": "9ac3aa5a-04c8-4b5f-a75f-9159a78487a7",
   "metadata": {},
   "outputs": [
    {
     "data": {
      "text/plain": [
       "array([    9,    14,    27, ..., 49399, 49403, 49414])"
      ]
     },
     "execution_count": 130,
     "metadata": {},
     "output_type": "execute_result"
    }
   ],
   "source": [
    "pos"
   ]
  },
  {
   "cell_type": "code",
   "execution_count": 146,
   "id": "4f917deb-d821-468b-b9e7-a2236eb2e030",
   "metadata": {},
   "outputs": [],
   "source": [
    "def active_cluster(\n",
    "    x_train,\n",
    "    y_train,\n",
    "    p_batch_size,\n",
    "    p_epochs,\n",
    "    p_init,\n",
    "    max_n_clusters,\n",
    "    target_accuracy,\n",
    "    custom_acquisition_fn=None):\n",
    "    \"\"\"\n",
    "    \"\"\"\n",
    "    x_train_flat = np.reshape(\n",
    "        x_train, \n",
    "        (len(x_train), x_train.shape[1] * x_train.shape[2] * x_train.shape[3])\n",
    "    )\n",
    "    \n",
    "    n_clusters = auto_cluster_size(x_train_flat, max_n_clusters)\n",
    "    p_kmeans = KMeans(n_clusters=n_clusters, random_state=0).fit(x_train_flat)\n",
    "    \n",
    "    # we will use the number of elements per cluster to select the initial batch\n",
    "    counts = norm_ratios(p_kmeans.labels_, p_init, range(n_clusters))\n",
    "\n",
    "    set_ix = list()\n",
    "    for i in range(len(counts)):\n",
    "        pos = np.where(p_kmeans.labels_ == i)[0]\n",
    "        set_ix = set_ix + np.random.choice(pos, size=counts[i], replace=False).tolist()\n",
    "\n",
    "    annotated_ix = set_ix.copy()\n",
    "\n",
    "    x_train_annotated = x_train[annotated_ix]    \n",
    "    y_train_annotated = y_train[annotated_ix]\n",
    "\n",
    "    p_model = tf.keras.models.Sequential([\n",
    "      tf.keras.layers.Flatten(input_shape=(28, 28)),\n",
    "      tf.keras.layers.Dense(128, activation='relu'),\n",
    "      tf.keras.layers.Dense(10)\n",
    "    ])\n",
    "    \n",
    "    p_model.compile(\n",
    "        optimizer=tf.keras.optimizers.Adam(0.001),\n",
    "        loss=tf.keras.losses.SparseCategoricalCrossentropy(from_logits=True),\n",
    "        metrics=[tf.keras.metrics.SparseCategoricalAccuracy()],\n",
    "    )\n",
    "\n",
    "    p_model.fit(\n",
    "        x=x_train_annotated,\n",
    "        y=y_train_annotated,\n",
    "        batch_size=p_batch_size,\n",
    "        epochs=p_epochs,\n",
    "        validation_split=VALIDATION_SPLIT,\n",
    "        verbose=0,\n",
    "    )\n",
    "\n",
    "    p_spent = p_epochs * (1 - VALIDATION_SPLIT) * len(x_train_annotated)\n",
    "\n",
    "    _, metrics = p_model.evaluate(\n",
    "        x=x_test,\n",
    "        y=y_test,\n",
    "        verbose=0,\n",
    "    )\n",
    "\n",
    "    p_metrics = [metrics]\n",
    "    p_budget = [p_spent]\n",
    "    p_annotated = [len(x_train_annotated)]\n",
    "\n",
    "    while p_metrics[-1] < target_accuracy:\n",
    "        \n",
    "        # TODO: try alternative balancing methods, e.g.,\n",
    "        # weak label distribution, match between weak and real label, ...\n",
    "        preds = p_model.predict(x_train_annotated)\n",
    "        preds_class = np.argmax(preds, axis=1)\n",
    "        misclassified_relative = np.where((preds_class - y_train_annotated)!=0)\n",
    "        misclassified_pos = np.take(annotated_ix, misclassified_relative)\n",
    "        misclassified_cluster_no = np.take(p_kmeans.labels_, misclassified_pos)\n",
    "\n",
    "        # compute ratio of misclassified classes\n",
    "        #counts_active = norm_ratios(\n",
    "        #    misclassified_cluster_no.ravel(), \n",
    "        #    p_batch_size,\n",
    "        #    range(n_clusters),\n",
    "        #    inclusion=False)        \n",
    "        # TODO do this switch using a function\n",
    "        counts_active = norm_ratios(p_kmeans.labels_, p_batch_size, range(n_clusters))\n",
    "\n",
    "        # select new images to annotate with the given ratios\n",
    "        ix_pool = np.delete(range(len(x_train)), annotated_ix)\n",
    "        weak_labels_ix_pool = np.delete(p_kmeans.labels_, annotated_ix)\n",
    "\n",
    "        set_ix = list()\n",
    "        for i in range(len(counts_active)):\n",
    "            pos = np.where(weak_labels_ix_pool == i)[0]                    \n",
    "            if len(pos) >= counts_active[i]:\n",
    "                if custom_acquisition_fn:\n",
    "                    # results are relative to input positions\n",
    "                    tmp_ix = custom_acquisition_fn(\n",
    "                        x_train_flat[annotated_ix], #TODO: filter by weakclass\n",
    "                        y_train_annotated,\n",
    "                        x_train_flat[ix_pool[pos]],\n",
    "                        counts_active[i])\n",
    "                    # thus, we select from the original indices\n",
    "                    if len(tmp_ix) > 0:\n",
    "                        set_ix = set_ix + ix_pool[pos][tmp_ix].tolist()\n",
    "                else:\n",
    "                    set_ix = set_ix + np.random.choice(\n",
    "                        ix_pool[pos], \n",
    "                        size=counts_active[i], \n",
    "                        replace=False).tolist()\n",
    "            elif len(pos) > 0:\n",
    "                set_ix = set_ix + ix_pool[pos].tolist()    \n",
    "\n",
    "        annotated_ix = annotated_ix + set_ix\n",
    "\n",
    "        x_train_annotated = x_train[annotated_ix]    \n",
    "        y_train_annotated = y_train[annotated_ix]\n",
    "\n",
    "        p_model.fit(\n",
    "            x=x_train_annotated,\n",
    "            y=y_train_annotated,\n",
    "            batch_size=p_batch_size,\n",
    "            epochs=p_epochs,\n",
    "            validation_split=VALIDATION_SPLIT,\n",
    "            verbose=0,\n",
    "        )\n",
    "\n",
    "        _, metrics = p_model.evaluate(\n",
    "            x=x_test,\n",
    "            y=y_test,\n",
    "            verbose=0,\n",
    "        )\n",
    "\n",
    "        p_metrics.append(metrics)\n",
    "        p_spent = p_spent + p_epochs * (1 - VALIDATION_SPLIT) * len(x_train_annotated)    \n",
    "        p_budget.append(p_spent)\n",
    "        p_annotated.append(len(x_train_annotated))\n",
    "\n",
    "        if len(p_metrics) % 20 == 0:\n",
    "            print(p_metrics[-1], p_annotated[-1])\n",
    "            \n",
    "    return p_metrics, p_budget, p_annotated\n"
   ]
  },
  {
   "cell_type": "code",
   "execution_count": 37,
   "id": "79c0649a-cc1c-4188-92a8-59f266e8714f",
   "metadata": {},
   "outputs": [
    {
     "name": "stdout",
     "output_type": "stream",
     "text": [
      "Warning: The automatic setting of the number of clusters is not yet implemented\n",
      "0.5791000127792358 115\n",
      "0.682699978351593 215\n",
      "0.7541999816894531 315\n",
      "0.7911999821662903 415\n",
      "0.8403000235557556 515\n",
      "0.8460000157356262 615\n",
      "0.8590999841690063 715\n",
      "0.8655999898910522 815\n",
      "0.8553000092506409 915\n"
     ]
    },
    {
     "data": {
      "text/plain": [
       "<matplotlib.lines.Line2D at 0x7f33745d6490>"
      ]
     },
     "execution_count": 37,
     "metadata": {},
     "output_type": "execute_result"
    },
    {
     "data": {
      "image/png": "[encoded data removed]",
      "text/plain": [
       "<Figure size 432x288 with 1 Axes>"
      ]
     },
     "metadata": {
      "needs_background": "light"
     },
     "output_type": "display_data"
    }
   ],
   "source": [
    "# p_metrics, p_budget, p_annotated\n",
    "r0 = active_cluster(\n",
    "    x_train,\n",
    "    y_train,\n",
    "    p_batch_size=5,\n",
    "    p_epochs=6,\n",
    "    p_init=20,\n",
    "    max_n_clusters=10,\n",
    "    target_accuracy=target_accuracy,)\n",
    "\n",
    "plt.plot(r0[2], r0[0], color='b')\n",
    "plt.axhline(target_accuracy, color='r')\n",
    "plt.axhline(baseline_metrics, color='y')"
   ]
  },
  {
   "cell_type": "code",
   "execution_count": 43,
   "id": "3abb214a-a58c-4023-8693-e6295c902f22",
   "metadata": {},
   "outputs": [
    {
     "data": {
      "text/plain": [
       "<matplotlib.lines.Line2D at 0x7f3374600a00>"
      ]
     },
     "execution_count": 43,
     "metadata": {},
     "output_type": "execute_result"
    },
    {
     "data": {
      "image/png": "[encoded data removed]",
      "text/plain": [
       "<Figure size 432x288 with 1 Axes>"
      ]
     },
     "metadata": {
      "needs_background": "light"
     },
     "output_type": "display_data"
    }
   ],
   "source": [
    "r1 = active_cluster(\n",
    "    x_train,\n",
    "    y_train,\n",
    "    p_batch_size=5,\n",
    "    p_epochs=10,\n",
    "    p_init=20,\n",
    "    max_n_clusters=10,\n",
    "    target_accuracy=target_accuracy)\n",
    "\n",
    "plt.plot(r0[2], r0[0], color='b')\n",
    "plt.plot(r1[2], r1[0], color='g')\n",
    "plt.axhline(target_accuracy, color='r')\n",
    "plt.axhline(baseline_metrics, color='y')"
   ]
  },
  {
   "cell_type": "code",
   "execution_count": 42,
   "id": "eae99ba5-cbab-4fd5-8526-2be707d98049",
   "metadata": {},
   "outputs": [
    {
     "data": {
      "text/plain": [
       "<matplotlib.lines.Line2D at 0x7f337438a0d0>"
      ]
     },
     "execution_count": 42,
     "metadata": {},
     "output_type": "execute_result"
    },
    {
     "data": {
      "image/png": "[encoded data removed]",
      "text/plain": [
       "<Figure size 432x288 with 1 Axes>"
      ]
     },
     "metadata": {
      "needs_background": "light"
     },
     "output_type": "display_data"
    }
   ],
   "source": [
    "r2 = active_cluster(\n",
    "    x_train,\n",
    "    y_train,\n",
    "    p_batch_size=5,\n",
    "    p_epochs=20,\n",
    "    p_init=20,\n",
    "    max_n_clusters=10,\n",
    "    target_accuracy=target_accuracy)\n",
    "\n",
    "plt.plot(r0[2], r0[0], color='b')\n",
    "plt.plot(r1[2], r1[0], color='g')\n",
    "plt.plot(r2[2], r2[0], color='m')\n",
    "plt.axhline(target_accuracy, color='r')\n",
    "plt.axhline(baseline_metrics, color='y')"
   ]
  },
  {
   "cell_type": "code",
   "execution_count": null,
   "id": "dbef4bf5-0f4c-42fb-bff6-21a0542df6d3",
   "metadata": {},
   "outputs": [],
   "source": [
    "r3 = active_cluster(\n",
    "    x_train,\n",
    "    y_train,\n",
    "    p_batch_size=7,\n",
    "    p_epochs=20,\n",
    "    p_init=20,\n",
    "    max_n_clusters=10,\n",
    "    target_accuracy=target_accuracy)\n",
    "\n",
    "plt.plot(r0[2], r0[0], color='g')\n",
    "plt.plot(r1[2], r1[0], color='b')\n",
    "plt.plot(r2[2], r2[0], color='o')\n",
    "plt.plot(r3[2], r3[0], color='k')\n",
    "plt.axhline(target_accuracy, color='r')\n",
    "plt.axhline(baseline_metrics, color='y')"
   ]
  },
  {
   "cell_type": "code",
   "execution_count": 148,
   "id": "e8f9ecc1-b7cb-44f5-854c-cc2517527bf9",
   "metadata": {},
   "outputs": [
    {
     "name": "stdout",
     "output_type": "stream",
     "text": [
      "Warning: The automatic setting of the number of clusters is not yet implemented\n",
      "0.8259999752044678 400\n",
      "0.8744000196456909 800\n"
     ]
    },
    {
     "data": {
      "text/plain": [
       "<matplotlib.lines.Line2D at 0x7f336772b820>"
      ]
     },
     "execution_count": 148,
     "metadata": {},
     "output_type": "execute_result"
    },
    {
     "data": {
      "image/png": "[encoded data removed]",
      "text/plain": [
       "<Figure size 432x288 with 1 Axes>"
      ]
     },
     "metadata": {
      "needs_background": "light"
     },
     "output_type": "display_data"
    }
   ],
   "source": [
    "r0v2 = active_cluster(\n",
    "    x_train,\n",
    "    y_train,\n",
    "    p_batch_size=20,\n",
    "    p_epochs=6,\n",
    "    p_init=20,\n",
    "    max_n_clusters=10,\n",
    "    target_accuracy=target_accuracy,\n",
    "#    custom_acquisition_fn=samp_var_acquisition_fn\n",
    ")\n",
    "\n",
    "plt.plot(r0[2], r0[0], color='b')\n",
    "plt.plot(r0v2[2], r0v2[0], color='g')\n",
    "plt.axhline(target_accuracy, color='r')\n",
    "plt.axhline(baseline_metrics, color='y')"
   ]
  }
 ],
 "metadata": {
  "kernelspec": {
   "display_name": "Python 3 (ipykernel)",
   "language": "python",
   "name": "python3"
  },
  "language_info": {
   "codemirror_mode": {
    "name": "ipython",
    "version": 3
   },
   "file_extension": ".py",
   "mimetype": "text/x-python",
   "name": "python",
   "nbconvert_exporter": "python",
   "pygments_lexer": "ipython3",
   "version": "3.8.0"
  }
 },
 "nbformat": 4,
 "nbformat_minor": 5
}
